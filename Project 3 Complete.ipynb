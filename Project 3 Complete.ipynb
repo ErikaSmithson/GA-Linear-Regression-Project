{
 "cells": [
  {
   "cell_type": "markdown",
   "metadata": {},
   "source": [
    "<img src=\"http://imgur.com/1ZcRyrc.png\" style=\"float: left; margin: 15px; height: 80px\">\n",
    "\n",
    "# Regression and Classification with the Ames Housing Data Project \n",
    "\n",
    "\n",
    "\n",
    "---\n",
    "\n",
    "You have just joined a new \"full stack\" real estate company in Ames, Iowa. The strategy of the firm is two-fold:\n",
    "- Own the entire process from the purchase of the land all the way to sale of the house, and anything in between.\n",
    "- Use statistical analysis to optimize investment and maximize return.\n",
    "\n",
    "The company is still small, and though investment is substantial the short-term goals of the company are more oriented towards purchasing existing houses and flipping them as opposed to constructing entirely new houses. That being said, the company has access to a large construction workforce operating at rock-bottom prices.\n",
    "\n",
    "This project uses the [Ames housing data recently made available on kaggle](https://www.kaggle.com/c/house-prices-advanced-regression-techniques)."
   ]
  },
  {
   "cell_type": "code",
   "execution_count": null,
   "metadata": {},
   "outputs": [],
   "source": []
  },
  {
   "cell_type": "code",
   "execution_count": 3,
   "metadata": {},
   "outputs": [
    {
     "name": "stdout",
     "output_type": "stream",
     "text": [
      "DEBUG:matplotlib.pyplot:Loaded backend module://ipykernel.pylab.backend_inline version unknown.\n"
     ]
    }
   ],
   "source": [
    "import numpy as np\n",
    "import scipy.stats as stats\n",
    "import seaborn as sns\n",
    "import matplotlib.pyplot as plt\n",
    "import pandas as pd\n",
    "import category_encoders as ce\n",
    "import patsy  \n",
    "\n",
    "sns.set_style('whitegrid')\n",
    "\n",
    "%config InlineBackend.figure_format = 'retina'\n",
    "%matplotlib inline"
   ]
  },
  {
   "cell_type": "markdown",
   "metadata": {},
   "source": [
    "<img src=\"http://imgur.com/l5NasQj.png\" style=\"float: left; margin: 25px 15px 0px 0px; height: 25px\">\n",
    "\n",
    "## 1. Estimating the value of homes from fixed characteristics.\n",
    "\n",
    "---\n",
    "\n",
    "Your superiors have outlined this year's strategy for the company:\n",
    "1. Develop an algorithm to reliably estimate the value of residential houses based on *fixed* characteristics.\n",
    "2. Identify characteristics of houses that the company can cost-effectively change/renovate with their construction team.\n",
    "3. Evaluate the mean dollar value of different renovations.\n",
    "\n",
    "Then we can use that to buy houses that are likely to sell for more than the cost of the purchase plus renovations.\n",
    "\n",
    "Your first job is to tackle #1. You have a dataset of housing sale data with a huge amount of features identifying different aspects of the house. The full description of the data features can be found in a separate file:\n",
    "\n",
    "    housing.csv\n",
    "    data_description.txt\n",
    "    \n",
    "You need to build a reliable estimator for the price of the house given characteristics of the house that cannot be renovated. Some examples include:\n",
    "- The neighborhood\n",
    "- Square feet\n",
    "- Bedrooms, bathrooms\n",
    "- Basement and garage space\n",
    "\n",
    "and many more. \n",
    "\n",
    "Some examples of things that **ARE renovate-able:**\n",
    "- Roof and exterior features\n",
    "- \"Quality\" metrics, such as kitchen quality\n",
    "- \"Condition\" metrics, such as condition of garage\n",
    "- Heating and electrical components\n",
    "\n",
    "and generally anything you deem can be modified without having to undergo major construction on the house.\n",
    "\n",
    "---\n",
    "\n",
    "**Your goals:**\n",
    "1. Perform any cleaning, feature engineering, and EDA you deem necessary.\n",
    "- Be sure to remove any houses that are not residential from the dataset.\n",
    "- Identify **fixed** features that can predict price.\n",
    "- Train a model on pre-2010 data and evaluate its performance on the 2010 houses.\n",
    "- Characterize your model. How well does it perform? What are the best estimates of price?\n",
    "\n",
    "> **Note:** The EDA and feature engineering component to this project is not trivial! Be sure to always think critically and creatively. Justify your actions! Use the data description file!"
   ]
  },
  {
   "cell_type": "code",
   "execution_count": 51,
   "metadata": {},
   "outputs": [],
   "source": [
    "# Load the data\n",
    "house = pd.read_csv('./housing.csv')"
   ]
  },
  {
   "cell_type": "code",
   "execution_count": 52,
   "metadata": {},
   "outputs": [],
   "source": [
    "#removed all non-residential rows according to MSZoning values \n",
    "house = house[house['MSZoning'].str.contains('RL|RM|FV|RH', regex=True)]"
   ]
  },
  {
   "cell_type": "code",
   "execution_count": 53,
   "metadata": {},
   "outputs": [
    {
     "data": {
      "text/plain": [
       "array(['RL', 'RM', 'FV', 'RH'], dtype=object)"
      ]
     },
     "execution_count": 53,
     "metadata": {},
     "output_type": "execute_result"
    }
   ],
   "source": [
    "house.MSZoning.unique()"
   ]
  },
  {
   "cell_type": "code",
   "execution_count": 54,
   "metadata": {},
   "outputs": [],
   "source": [
    "reno_house = house.filter(['OverallQual', 'OverallCond', 'ExterQual', 'ExterCond', 'BsmtCond', 'BsmtFinType1', 'BsmtFinSF1', 'BsmtFinType2', 'BsmtFinSF2', 'BsmtUnfSF',\\\n",
    "                                   'HeatingQC', 'KitchenQual', 'BsmtQual', 'Functional', 'FireplaceQu', 'GarageQual', 'GarageCond', 'PavedDrive', 'PoolQC', 'Fence'])"
   ]
  },
  {
   "cell_type": "code",
   "execution_count": 55,
   "metadata": {},
   "outputs": [],
   "source": [
    "#removed all mutable house characteristics \n",
    "#What I assumed was that the base features of the house would stay the same (such as no new house additions) and instead the base house would be improved. \n",
    "#Therefore, I removed all qualitative 'quality'-like variables and basement finish variables because finished/unfinished is like basement quality. \n",
    "fixed_house = house.drop(columns=['OverallQual', 'OverallCond', 'ExterQual', 'ExterCond', 'BsmtCond', 'BsmtFinType1', 'BsmtFinSF1', 'BsmtFinType2', 'BsmtFinSF2', 'BsmtUnfSF',\\\n",
    "                                   'HeatingQC', 'KitchenQual', 'BsmtQual', 'Functional', 'FireplaceQu', 'GarageQual', 'GarageCond', 'PavedDrive', 'PoolQC', 'Fence'])"
   ]
  },
  {
   "cell_type": "code",
   "execution_count": 56,
   "metadata": {},
   "outputs": [],
   "source": [
    "#dropped columns with many missing values \n",
    "#the Utilities column does not have no na values but the values are constant\n",
    "fixed_house = fixed_house.drop(columns=['MiscFeature',\n",
    "                                          'MiscVal', 'Utilities', 'Alley'])"
   ]
  },
  {
   "cell_type": "markdown",
   "metadata": {},
   "source": []
  },
  {
   "cell_type": "code",
   "execution_count": 57,
   "metadata": {},
   "outputs": [],
   "source": [
    "fixed_house['TotalSF'] = fixed_house['1stFlrSF'] + fixed_house['2ndFlrSF']\n",
    "fixed_house = fixed_house.drop(columns=['1stFlrSF', '2ndFlrSF'])"
   ]
  },
  {
   "cell_type": "code",
   "execution_count": 58,
   "metadata": {},
   "outputs": [],
   "source": [
    "fixed_house['BsmtBath'] = fixed_house['BsmtFullBath'] \\\n",
    "+ (fixed_house['BsmtHalfBath'].apply(lambda x: x * 0.5))\n",
    "fixed_house = fixed_house.drop(columns=\\\n",
    "                             ['BsmtFullBath', 'BsmtHalfBath'])\n",
    "\n",
    "fixed_house['AbvGrBath'] = fixed_house['FullBath'] + \\\n",
    "(fixed_house['HalfBath'].apply(lambda x: x * 0.5))\n",
    "fixed_house = fixed_house.drop(columns=['HalfBath', 'FullBath'])"
   ]
  },
  {
   "cell_type": "code",
   "execution_count": 59,
   "metadata": {},
   "outputs": [],
   "source": [
    "#filling all null values with zero except Lot Frontage because\n",
    "#unlike the others it doesn't seem plausable that all 229 are zero values \n",
    "values = {'MasVnrType': 0, 'MasVnrArea':0, 'BsmtExposure':0,\\\n",
    "          'GarageType':0, 'GarageYrBlt':0, 'GarageFinish':0, 'Electrical':1}"
   ]
  },
  {
   "cell_type": "code",
   "execution_count": 60,
   "metadata": {},
   "outputs": [],
   "source": [
    "fixed_house = fixed_house.fillna(value=values)"
   ]
  },
  {
   "cell_type": "code",
   "execution_count": 61,
   "metadata": {},
   "outputs": [],
   "source": [
    "#filling LotFrontage na values with the mean of the non-nulls \n",
    "fixed_house['LotFrontage'] = fixed_house['LotFrontage'].fillna(value=74.68)\n",
    "fixed_house['GarageYrBlt'] = fixed_house['GarageYrBlt'].fillna(value=1978)"
   ]
  },
  {
   "cell_type": "code",
   "execution_count": 62,
   "metadata": {
    "scrolled": true
   },
   "outputs": [
    {
     "data": {
      "text/plain": [
       "Id               0\n",
       "MSSubClass       0\n",
       "MSZoning         0\n",
       "LotFrontage      0\n",
       "LotArea          0\n",
       "Street           0\n",
       "LotShape         0\n",
       "LandContour      0\n",
       "LotConfig        0\n",
       "LandSlope        0\n",
       "Neighborhood     0\n",
       "Condition1       0\n",
       "Condition2       0\n",
       "BldgType         0\n",
       "HouseStyle       0\n",
       "YearBuilt        0\n",
       "YearRemodAdd     0\n",
       "RoofStyle        0\n",
       "RoofMatl         0\n",
       "Exterior1st      0\n",
       "Exterior2nd      0\n",
       "MasVnrType       0\n",
       "MasVnrArea       0\n",
       "Foundation       0\n",
       "BsmtExposure     0\n",
       "TotalBsmtSF      0\n",
       "Heating          0\n",
       "CentralAir       0\n",
       "Electrical       0\n",
       "LowQualFinSF     0\n",
       "GrLivArea        0\n",
       "BedroomAbvGr     0\n",
       "KitchenAbvGr     0\n",
       "TotRmsAbvGrd     0\n",
       "Fireplaces       0\n",
       "GarageType       0\n",
       "GarageYrBlt      0\n",
       "GarageFinish     0\n",
       "GarageCars       0\n",
       "GarageArea       0\n",
       "WoodDeckSF       0\n",
       "OpenPorchSF      0\n",
       "EnclosedPorch    0\n",
       "3SsnPorch        0\n",
       "ScreenPorch      0\n",
       "PoolArea         0\n",
       "MoSold           0\n",
       "YrSold           0\n",
       "SaleType         0\n",
       "SaleCondition    0\n",
       "SalePrice        0\n",
       "TotalSF          0\n",
       "BsmtBath         0\n",
       "AbvGrBath        0\n",
       "dtype: int64"
      ]
     },
     "execution_count": 62,
     "metadata": {},
     "output_type": "execute_result"
    }
   ],
   "source": [
    "fixed_house.isna().sum()       "
   ]
  },
  {
   "cell_type": "code",
   "execution_count": 63,
   "metadata": {},
   "outputs": [],
   "source": [
    "fixed_house['Condition1'] = fixed_house['Condition1'].str.replace('RRNn', 'Transit')\n",
    "fixed_house['Condition1'] = fixed_house['Condition1'].str.replace('RRAn', 'Transit')\n",
    "fixed_house['Condition1'] = fixed_house['Condition1'].str.replace('RRNe', 'Transit')\n",
    "fixed_house['Condition1'] = fixed_house['Condition1'].str.replace('RRAe', 'Transit')\n",
    "\n",
    "fixed_house['Condition1'] = fixed_house['Condition1'].str.replace('Artery', 'MainRoad')\n",
    "fixed_house['Condition1'] = fixed_house['Condition1'].str.replace('Feedr', 'MainRoad')\n",
    "\n",
    "fixed_house['Condition1'] = fixed_house['Condition1'].str.replace('PosA', 'Greenspace')\n",
    "fixed_house['Condition1'] = fixed_house['Condition1'].str.replace('PosN', 'Greenspace')"
   ]
  },
  {
   "cell_type": "code",
   "execution_count": 64,
   "metadata": {},
   "outputs": [],
   "source": [
    "fixed_house['Condition2'] = fixed_house['Condition2'].str.replace('RRNn', 'Transit')\n",
    "fixed_house['Condition2'] = fixed_house['Condition2'].str.replace('RRAn', 'Transit')\n",
    "fixed_house['Condition2'] = fixed_house['Condition2'].str.replace('RRNe', 'Transit')\n",
    "fixed_house['Condition2'] = fixed_house['Condition2'].str.replace('RRAe', 'Transit')\n",
    "\n",
    "fixed_house['Condition2'] = fixed_house['Condition2'].str.replace('Artery', 'MainRoad')\n",
    "fixed_house['Condition2'] = fixed_house['Condition2'].str.replace('Feedr', 'MainRoad')\n",
    "\n",
    "fixed_house['Condition2'] = fixed_house['Condition2'].str.replace('PosA', 'Greenspace')\n",
    "fixed_house['Condition2'] = fixed_house['Condition2'].str.replace('PosN', 'Greenspace')"
   ]
  },
  {
   "cell_type": "code",
   "execution_count": 65,
   "metadata": {},
   "outputs": [],
   "source": [
    "fixed_house['SaleCondition'] = fixed_house['SaleCondition'].str.replace('Alloca', 'Joint')\n",
    "fixed_house['SaleCondition'] = fixed_house['SaleCondition'].str.replace('AdjLand', 'Joint')\n"
   ]
  },
  {
   "cell_type": "code",
   "execution_count": 66,
   "metadata": {},
   "outputs": [],
   "source": [
    "fixed_house['SaleType'] = fixed_house['SaleType'].str.replace('ConLI', 'Con')\n",
    "fixed_house['SaleType'] = fixed_house['SaleType'].str.replace('ConLw', 'Con')\n",
    "fixed_house['SaleType'] = fixed_house['SaleType'].str.replace('ConLD', 'Con')\n",
    "fixed_house['SaleType'] = fixed_house['SaleType'].str.replace('OthLw', 'Oth')\n",
    "fixed_house['SaleType'] = fixed_house['SaleType'].str.replace('CWD', 'WD')"
   ]
  },
  {
   "cell_type": "code",
   "execution_count": 67,
   "metadata": {},
   "outputs": [],
   "source": [
    "fixed_house['Foundation'] = fixed_house['Foundation'].str.replace('Slab', 'Oth')\n",
    "fixed_house['Foundation'] = fixed_house['Foundation'].str.replace('Stone', 'Oth')\n",
    "fixed_house['Foundation'] = fixed_house['Foundation'].str.replace('Wood', 'Oth')"
   ]
  },
  {
   "cell_type": "code",
   "execution_count": 68,
   "metadata": {},
   "outputs": [],
   "source": [
    "fixed_house['MSSubClass'] = fixed_house['MSSubClass'].replace(40, 45)"
   ]
  },
  {
   "cell_type": "code",
   "execution_count": 69,
   "metadata": {},
   "outputs": [],
   "source": [
    "fixed_house['LotConfig'] = fixed_house['LotConfig'].str.replace('FR2', 'Frontage')\n",
    "fixed_house['LotConfig'] = fixed_house['LotConfig'].str.replace('FR3', 'Frontage')"
   ]
  },
  {
   "cell_type": "code",
   "execution_count": 70,
   "metadata": {},
   "outputs": [],
   "source": [
    "fixed_house['BldgType'] = fixed_house['BldgType'].str.replace('2fmCon', 'Duplex')\n",
    "fixed_house['BldgType'] = fixed_house['BldgType'].str.replace('TwnhsE', 'Twnhs')\n"
   ]
  },
  {
   "cell_type": "code",
   "execution_count": 71,
   "metadata": {},
   "outputs": [],
   "source": [
    "fixed_house['RoofStyle'] = fixed_house['RoofStyle'].str.replace('Flat', 'Oth')\n",
    "fixed_house['RoofStyle'] = fixed_house['RoofStyle'].str.replace('Gambrel', 'Oth')\n",
    "fixed_house['RoofStyle'] = fixed_house['RoofStyle'].str.replace('Mansard', 'Oth')\n",
    "fixed_house['RoofStyle'] = fixed_house['RoofStyle'].str.replace('Shed', 'Oth')"
   ]
  },
  {
   "cell_type": "code",
   "execution_count": 72,
   "metadata": {},
   "outputs": [],
   "source": [
    "fixed_house['RoofMatl'] = fixed_house['RoofMatl'].str.replace('WdShngl', 'Oth')\n",
    "fixed_house['RoofMatl'] = fixed_house['RoofMatl'].str.replace('WdShake', 'Oth')\n",
    "fixed_house['RoofMatl'] = fixed_house['RoofMatl'].str.replace('Roll', 'Oth')\n",
    "fixed_house['RoofMatl'] = fixed_house['RoofMatl'].str.replace('ClyTile', 'Oth')\n",
    "fixed_house['RoofMatl'] = fixed_house['RoofMatl'].str.replace('Metal', 'Oth')\n",
    "fixed_house['RoofMatl'] = fixed_house['RoofMatl'].str.replace('Membran', 'Oth')"
   ]
  },
  {
   "cell_type": "code",
   "execution_count": 73,
   "metadata": {},
   "outputs": [],
   "source": [
    "fixed_house['Exterior1st'] = fixed_house['Exterior1st'].str.replace('BrkComm', 'Oth')\n",
    "fixed_house['Exterior1st'] = fixed_house['Exterior1st'].str.replace('Stone', 'Oth')\n",
    "fixed_house['Exterior1st'] = fixed_house['Exterior1st'].str.replace('ImStucc', 'Oth')\n",
    "fixed_house['Exterior1st'] = fixed_house['Exterior1st'].str.replace('AsphShn', 'Oth')\n",
    "fixed_house['Exterior1st'] = fixed_house['Exterior1st'].str.replace('CBlock', 'Oth')\n"
   ]
  },
  {
   "cell_type": "code",
   "execution_count": 74,
   "metadata": {},
   "outputs": [],
   "source": [
    "fixed_house['Exterior2nd'] = fixed_house['Exterior2nd'].str.replace('Brk Cmn', 'Oth')\n",
    "fixed_house['Exterior2nd'] = fixed_house['Exterior2nd'].str.replace('Stone', 'Oth')\n",
    "fixed_house['Exterior2nd'] = fixed_house['Exterior2nd'].str.replace('ImStucc', 'Oth')\n",
    "fixed_house['Exterior2nd'] = fixed_house['Exterior2nd'].str.replace('AsbShng', 'Oth')\n",
    "fixed_house['Exterior2nd'] = fixed_house['Exterior2nd'].str.replace('CBlock', 'Oth')\n",
    "fixed_house['Exterior2nd'] = fixed_house['Exterior2nd'].str.replace('Other', 'Oth')"
   ]
  },
  {
   "cell_type": "code",
   "execution_count": 75,
   "metadata": {},
   "outputs": [],
   "source": [
    "fixed_house['MasVnrType'] = fixed_house['MasVnrType'].str.replace('0', 'None')"
   ]
  },
  {
   "cell_type": "code",
   "execution_count": 76,
   "metadata": {},
   "outputs": [],
   "source": [
    "fixed_house['Heating'] = fixed_house['Heating'].str.replace('OthW', 'Oth')\n",
    "fixed_house['Heating'] = fixed_house['Heating'].str.replace('Grav', 'Oth')\n",
    "fixed_house['Heating'] = fixed_house['Heating'].str.replace('Wall', 'Oth')\n",
    "fixed_house['Heating'] = fixed_house['Heating'].str.replace('Floor', 'Oth')"
   ]
  },
  {
   "cell_type": "code",
   "execution_count": 77,
   "metadata": {},
   "outputs": [],
   "source": [
    "fixed_house['GarageType'] = fixed_house['GarageType'].str.replace('Basement', 'Attchd')\n",
    "fixed_house['GarageType'] = fixed_house['GarageType'].str.replace('BuiltIn', 'Attchd')\n",
    "fixed_house['GarageType'] = fixed_house['GarageType'].str.replace('0', 'None')\n",
    "fixed_house['GarageType'] = fixed_house['GarageType'].str.replace('CarPort', 'Detchd')"
   ]
  },
  {
   "cell_type": "code",
   "execution_count": 78,
   "metadata": {
    "scrolled": true
   },
   "outputs": [
    {
     "data": {
      "text/plain": [
       "Attchd     958\n",
       "Detchd     389\n",
       "Basment     18\n",
       "2Types       6\n",
       "Name: GarageType, dtype: int64"
      ]
     },
     "execution_count": 78,
     "metadata": {},
     "output_type": "execute_result"
    }
   ],
   "source": [
    "fixed_house['GarageType'].value_counts()"
   ]
  },
  {
   "cell_type": "code",
   "execution_count": null,
   "metadata": {},
   "outputs": [],
   "source": []
  },
  {
   "cell_type": "code",
   "execution_count": 79,
   "metadata": {},
   "outputs": [],
   "source": [
    "fixedOC = ce.ordinal.OrdinalEncoder([{'col': 'Street', 'mapping':[('Grvl', 3), ('Pave', 5)]},  \n",
    "                                     {'col': 'LotShape', 'mapping':[('Reg', 5), ('IR1', 4), ('IR2', 3), ('IR3', 2)]},\n",
    "                                     {'col': 'LandContour', 'mapping':[('Lvl', 5), ('Bnk', 3), ('HLS', 2), ('Low', 1)]}, \n",
    "                                     {'col': 'LandSlope', 'mapping': [('Gtl', 5), ('Mod', 3), ('Sev', 1)]},\n",
    "                                     {'col': 'HouseStyle', 'mapping': [('1Story', 1), ('1.5Unf', 1.5), ('1.5Fin', 1.5), ('SFoyer', 1.5), ('SLvl', 2.0), ('2Story', 2), ('2.5Unf', 2.5), ('2.5Fin', 2.5)]},\n",
    "                                     {'col': 'Electrical', 'mapping':[('SBrkr', 5), ('FuseA', 4), ('FuseF', 3),('Mix', 2), ('FuseP', 1), ('NA', 0)]},\n",
    "                                     {'col': 'GarageFinish', 'mapping':[('Fin', 5), ('Rfn', 3), ('Unf', 1), ('NA', 0)]}], cols= ['Street', 'LotShape', 'LandContour', 'LandSlope', 'HouseStyle', 'Electrical', 'GarageFinish'])\n"
   ]
  },
  {
   "cell_type": "code",
   "execution_count": 80,
   "metadata": {},
   "outputs": [],
   "source": [
    "fixed_house = fixedOC.fit_transform(fixed_house)"
   ]
  },
  {
   "cell_type": "code",
   "execution_count": 81,
   "metadata": {},
   "outputs": [
    {
     "data": {
      "text/plain": [
       "2    600\n",
       "1    419\n",
       "3    352\n",
       "4     79\n",
       "Name: GarageFinish, dtype: int64"
      ]
     },
     "execution_count": 81,
     "metadata": {},
     "output_type": "execute_result"
    }
   ],
   "source": [
    "fixed_house.GarageFinish.value_counts()"
   ]
  },
  {
   "cell_type": "code",
   "execution_count": 82,
   "metadata": {},
   "outputs": [
    {
     "data": {
      "text/plain": [
       "Id                 int64\n",
       "MSSubClass         int64\n",
       "MSZoning          object\n",
       "LotFrontage      float64\n",
       "LotArea            int64\n",
       "Street             int64\n",
       "LotShape           int64\n",
       "LandContour        int64\n",
       "LotConfig         object\n",
       "LandSlope          int64\n",
       "Neighborhood      object\n",
       "Condition1        object\n",
       "Condition2        object\n",
       "BldgType          object\n",
       "HouseStyle         int64\n",
       "YearBuilt          int64\n",
       "YearRemodAdd       int64\n",
       "RoofStyle         object\n",
       "RoofMatl          object\n",
       "Exterior1st       object\n",
       "Exterior2nd       object\n",
       "MasVnrType        object\n",
       "MasVnrArea       float64\n",
       "Foundation        object\n",
       "BsmtExposure      object\n",
       "TotalBsmtSF        int64\n",
       "Heating           object\n",
       "CentralAir        object\n",
       "Electrical         int64\n",
       "LowQualFinSF       int64\n",
       "GrLivArea          int64\n",
       "BedroomAbvGr       int64\n",
       "KitchenAbvGr       int64\n",
       "TotRmsAbvGrd       int64\n",
       "Fireplaces         int64\n",
       "GarageType        object\n",
       "GarageYrBlt      float64\n",
       "GarageFinish       int64\n",
       "GarageCars         int64\n",
       "GarageArea         int64\n",
       "WoodDeckSF         int64\n",
       "OpenPorchSF        int64\n",
       "EnclosedPorch      int64\n",
       "3SsnPorch          int64\n",
       "ScreenPorch        int64\n",
       "PoolArea           int64\n",
       "MoSold             int64\n",
       "YrSold             int64\n",
       "SaleType          object\n",
       "SaleCondition     object\n",
       "SalePrice          int64\n",
       "TotalSF            int64\n",
       "BsmtBath         float64\n",
       "AbvGrBath        float64\n",
       "dtype: object"
      ]
     },
     "execution_count": 82,
     "metadata": {},
     "output_type": "execute_result"
    }
   ],
   "source": [
    "fixed_house.dtypes"
   ]
  },
  {
   "cell_type": "code",
   "execution_count": 83,
   "metadata": {},
   "outputs": [],
   "source": [
    "categorical_fixed_house = fixed_house.filter(['MSZoning', 'LotConfig', 'LandSlope', 'Neighborhood',\\\n",
    "                                             'Condition1', 'Condition2', 'BldgType', 'HouseStyle', 'RoofStyle', \\\n",
    "                                             'RoofMatl', 'Exterior1st', 'Exterior2nd', 'MasVnrType', 'Foundation', 'CentralAir', 'BsmtExposure', 'Heating', \\\n",
    "                                             'GarageType', 'SaleType', 'SaleCondition'])"
   ]
  },
  {
   "cell_type": "code",
   "execution_count": 84,
   "metadata": {},
   "outputs": [
    {
     "name": "stdout",
     "output_type": "stream",
     "text": [
      "(1450, 20)\n",
      "(1450, 106)\n"
     ]
    }
   ],
   "source": [
    "print(categorical_fixed_house.shape)\n",
    "print(pd.get_dummies(categorical_fixed_house).shape)"
   ]
  },
  {
   "cell_type": "code",
   "execution_count": 85,
   "metadata": {
    "scrolled": true
   },
   "outputs": [],
   "source": [
    "categorical_fixed_house = pd.get_dummies(categorical_fixed_house)"
   ]
  },
  {
   "cell_type": "code",
   "execution_count": 91,
   "metadata": {
    "collapsed": true
   },
   "outputs": [
    {
     "ename": "KeyError",
     "evalue": "\"['MSZoning' 'LotConfig' 'LandSlope' 'Neighborhood' 'Condition1'\\n 'Condition2' 'BldgType' 'HouseStyle' 'RoofStyle' 'RoofMatl' 'Exterior1st'\\n 'Exterior2nd' 'MasVnrType' 'Foundation' 'CentralAir' 'BsmtExposure'\\n 'Heating' 'GarageType' 'SaleType' 'SaleCondition'] not found in axis\"",
     "output_type": "error",
     "traceback": [
      "\u001b[0;31m---------------------------------------------------------------------------\u001b[0m",
      "\u001b[0;31mKeyError\u001b[0m                                  Traceback (most recent call last)",
      "\u001b[0;32m<ipython-input-91-3e849073da9e>\u001b[0m in \u001b[0;36m<module>\u001b[0;34m\u001b[0m\n\u001b[1;32m      2\u001b[0m                                              \u001b[0;34m'Condition1'\u001b[0m\u001b[0;34m,\u001b[0m \u001b[0;34m'Condition2'\u001b[0m\u001b[0;34m,\u001b[0m \u001b[0;34m'BldgType'\u001b[0m\u001b[0;34m,\u001b[0m \u001b[0;34m'HouseStyle'\u001b[0m\u001b[0;34m,\u001b[0m \u001b[0;34m'RoofStyle'\u001b[0m\u001b[0;34m,\u001b[0m\u001b[0;31m \u001b[0m\u001b[0;31m\\\u001b[0m\u001b[0;34m\u001b[0m\u001b[0;34m\u001b[0m\u001b[0m\n\u001b[1;32m      3\u001b[0m                                              \u001b[0;34m'RoofMatl'\u001b[0m\u001b[0;34m,\u001b[0m \u001b[0;34m'Exterior1st'\u001b[0m\u001b[0;34m,\u001b[0m \u001b[0;34m'Exterior2nd'\u001b[0m\u001b[0;34m,\u001b[0m \u001b[0;34m'MasVnrType'\u001b[0m\u001b[0;34m,\u001b[0m \u001b[0;34m'Foundation'\u001b[0m\u001b[0;34m,\u001b[0m \u001b[0;34m'CentralAir'\u001b[0m\u001b[0;34m,\u001b[0m \u001b[0;34m'BsmtExposure'\u001b[0m\u001b[0;34m,\u001b[0m \u001b[0;34m'Heating'\u001b[0m\u001b[0;34m,\u001b[0m\u001b[0;31m \u001b[0m\u001b[0;31m\\\u001b[0m\u001b[0;34m\u001b[0m\u001b[0;34m\u001b[0m\u001b[0m\n\u001b[0;32m----> 4\u001b[0;31m                                              'GarageType', 'SaleType', 'SaleCondition'], inplace=True)\n\u001b[0m",
      "\u001b[0;32m/opt/anaconda3/lib/python3.7/site-packages/pandas/core/frame.py\u001b[0m in \u001b[0;36mdrop\u001b[0;34m(self, labels, axis, index, columns, level, inplace, errors)\u001b[0m\n\u001b[1;32m   4100\u001b[0m             \u001b[0mlevel\u001b[0m\u001b[0;34m=\u001b[0m\u001b[0mlevel\u001b[0m\u001b[0;34m,\u001b[0m\u001b[0;34m\u001b[0m\u001b[0;34m\u001b[0m\u001b[0m\n\u001b[1;32m   4101\u001b[0m             \u001b[0minplace\u001b[0m\u001b[0;34m=\u001b[0m\u001b[0minplace\u001b[0m\u001b[0;34m,\u001b[0m\u001b[0;34m\u001b[0m\u001b[0;34m\u001b[0m\u001b[0m\n\u001b[0;32m-> 4102\u001b[0;31m             \u001b[0merrors\u001b[0m\u001b[0;34m=\u001b[0m\u001b[0merrors\u001b[0m\u001b[0;34m,\u001b[0m\u001b[0;34m\u001b[0m\u001b[0;34m\u001b[0m\u001b[0m\n\u001b[0m\u001b[1;32m   4103\u001b[0m         )\n\u001b[1;32m   4104\u001b[0m \u001b[0;34m\u001b[0m\u001b[0m\n",
      "\u001b[0;32m/opt/anaconda3/lib/python3.7/site-packages/pandas/core/generic.py\u001b[0m in \u001b[0;36mdrop\u001b[0;34m(self, labels, axis, index, columns, level, inplace, errors)\u001b[0m\n\u001b[1;32m   3912\u001b[0m         \u001b[0;32mfor\u001b[0m \u001b[0maxis\u001b[0m\u001b[0;34m,\u001b[0m \u001b[0mlabels\u001b[0m \u001b[0;32min\u001b[0m \u001b[0maxes\u001b[0m\u001b[0;34m.\u001b[0m\u001b[0mitems\u001b[0m\u001b[0;34m(\u001b[0m\u001b[0;34m)\u001b[0m\u001b[0;34m:\u001b[0m\u001b[0;34m\u001b[0m\u001b[0;34m\u001b[0m\u001b[0m\n\u001b[1;32m   3913\u001b[0m             \u001b[0;32mif\u001b[0m \u001b[0mlabels\u001b[0m \u001b[0;32mis\u001b[0m \u001b[0;32mnot\u001b[0m \u001b[0;32mNone\u001b[0m\u001b[0;34m:\u001b[0m\u001b[0;34m\u001b[0m\u001b[0;34m\u001b[0m\u001b[0m\n\u001b[0;32m-> 3914\u001b[0;31m                 \u001b[0mobj\u001b[0m \u001b[0;34m=\u001b[0m \u001b[0mobj\u001b[0m\u001b[0;34m.\u001b[0m\u001b[0m_drop_axis\u001b[0m\u001b[0;34m(\u001b[0m\u001b[0mlabels\u001b[0m\u001b[0;34m,\u001b[0m \u001b[0maxis\u001b[0m\u001b[0;34m,\u001b[0m \u001b[0mlevel\u001b[0m\u001b[0;34m=\u001b[0m\u001b[0mlevel\u001b[0m\u001b[0;34m,\u001b[0m \u001b[0merrors\u001b[0m\u001b[0;34m=\u001b[0m\u001b[0merrors\u001b[0m\u001b[0;34m)\u001b[0m\u001b[0;34m\u001b[0m\u001b[0;34m\u001b[0m\u001b[0m\n\u001b[0m\u001b[1;32m   3915\u001b[0m \u001b[0;34m\u001b[0m\u001b[0m\n\u001b[1;32m   3916\u001b[0m         \u001b[0;32mif\u001b[0m \u001b[0minplace\u001b[0m\u001b[0;34m:\u001b[0m\u001b[0;34m\u001b[0m\u001b[0;34m\u001b[0m\u001b[0m\n",
      "\u001b[0;32m/opt/anaconda3/lib/python3.7/site-packages/pandas/core/generic.py\u001b[0m in \u001b[0;36m_drop_axis\u001b[0;34m(self, labels, axis, level, errors)\u001b[0m\n\u001b[1;32m   3944\u001b[0m                 \u001b[0mnew_axis\u001b[0m \u001b[0;34m=\u001b[0m \u001b[0maxis\u001b[0m\u001b[0;34m.\u001b[0m\u001b[0mdrop\u001b[0m\u001b[0;34m(\u001b[0m\u001b[0mlabels\u001b[0m\u001b[0;34m,\u001b[0m \u001b[0mlevel\u001b[0m\u001b[0;34m=\u001b[0m\u001b[0mlevel\u001b[0m\u001b[0;34m,\u001b[0m \u001b[0merrors\u001b[0m\u001b[0;34m=\u001b[0m\u001b[0merrors\u001b[0m\u001b[0;34m)\u001b[0m\u001b[0;34m\u001b[0m\u001b[0;34m\u001b[0m\u001b[0m\n\u001b[1;32m   3945\u001b[0m             \u001b[0;32melse\u001b[0m\u001b[0;34m:\u001b[0m\u001b[0;34m\u001b[0m\u001b[0;34m\u001b[0m\u001b[0m\n\u001b[0;32m-> 3946\u001b[0;31m                 \u001b[0mnew_axis\u001b[0m \u001b[0;34m=\u001b[0m \u001b[0maxis\u001b[0m\u001b[0;34m.\u001b[0m\u001b[0mdrop\u001b[0m\u001b[0;34m(\u001b[0m\u001b[0mlabels\u001b[0m\u001b[0;34m,\u001b[0m \u001b[0merrors\u001b[0m\u001b[0;34m=\u001b[0m\u001b[0merrors\u001b[0m\u001b[0;34m)\u001b[0m\u001b[0;34m\u001b[0m\u001b[0;34m\u001b[0m\u001b[0m\n\u001b[0m\u001b[1;32m   3947\u001b[0m             \u001b[0mresult\u001b[0m \u001b[0;34m=\u001b[0m \u001b[0mself\u001b[0m\u001b[0;34m.\u001b[0m\u001b[0mreindex\u001b[0m\u001b[0;34m(\u001b[0m\u001b[0;34m**\u001b[0m\u001b[0;34m{\u001b[0m\u001b[0maxis_name\u001b[0m\u001b[0;34m:\u001b[0m \u001b[0mnew_axis\u001b[0m\u001b[0;34m}\u001b[0m\u001b[0;34m)\u001b[0m\u001b[0;34m\u001b[0m\u001b[0;34m\u001b[0m\u001b[0m\n\u001b[1;32m   3948\u001b[0m \u001b[0;34m\u001b[0m\u001b[0m\n",
      "\u001b[0;32m/opt/anaconda3/lib/python3.7/site-packages/pandas/core/indexes/base.py\u001b[0m in \u001b[0;36mdrop\u001b[0;34m(self, labels, errors)\u001b[0m\n\u001b[1;32m   5338\u001b[0m         \u001b[0;32mif\u001b[0m \u001b[0mmask\u001b[0m\u001b[0;34m.\u001b[0m\u001b[0many\u001b[0m\u001b[0;34m(\u001b[0m\u001b[0;34m)\u001b[0m\u001b[0;34m:\u001b[0m\u001b[0;34m\u001b[0m\u001b[0;34m\u001b[0m\u001b[0m\n\u001b[1;32m   5339\u001b[0m             \u001b[0;32mif\u001b[0m \u001b[0merrors\u001b[0m \u001b[0;34m!=\u001b[0m \u001b[0;34m\"ignore\"\u001b[0m\u001b[0;34m:\u001b[0m\u001b[0;34m\u001b[0m\u001b[0;34m\u001b[0m\u001b[0m\n\u001b[0;32m-> 5340\u001b[0;31m                 \u001b[0;32mraise\u001b[0m \u001b[0mKeyError\u001b[0m\u001b[0;34m(\u001b[0m\u001b[0;34m\"{} not found in axis\"\u001b[0m\u001b[0;34m.\u001b[0m\u001b[0mformat\u001b[0m\u001b[0;34m(\u001b[0m\u001b[0mlabels\u001b[0m\u001b[0;34m[\u001b[0m\u001b[0mmask\u001b[0m\u001b[0;34m]\u001b[0m\u001b[0;34m)\u001b[0m\u001b[0;34m)\u001b[0m\u001b[0;34m\u001b[0m\u001b[0;34m\u001b[0m\u001b[0m\n\u001b[0m\u001b[1;32m   5341\u001b[0m             \u001b[0mindexer\u001b[0m \u001b[0;34m=\u001b[0m \u001b[0mindexer\u001b[0m\u001b[0;34m[\u001b[0m\u001b[0;34m~\u001b[0m\u001b[0mmask\u001b[0m\u001b[0;34m]\u001b[0m\u001b[0;34m\u001b[0m\u001b[0;34m\u001b[0m\u001b[0m\n\u001b[1;32m   5342\u001b[0m         \u001b[0;32mreturn\u001b[0m \u001b[0mself\u001b[0m\u001b[0;34m.\u001b[0m\u001b[0mdelete\u001b[0m\u001b[0;34m(\u001b[0m\u001b[0mindexer\u001b[0m\u001b[0;34m)\u001b[0m\u001b[0;34m\u001b[0m\u001b[0;34m\u001b[0m\u001b[0m\n",
      "\u001b[0;31mKeyError\u001b[0m: \"['MSZoning' 'LotConfig' 'LandSlope' 'Neighborhood' 'Condition1'\\n 'Condition2' 'BldgType' 'HouseStyle' 'RoofStyle' 'RoofMatl' 'Exterior1st'\\n 'Exterior2nd' 'MasVnrType' 'Foundation' 'CentralAir' 'BsmtExposure'\\n 'Heating' 'GarageType' 'SaleType' 'SaleCondition'] not found in axis\""
     ]
    }
   ],
   "source": [
    "fixed_house.drop(columns=['MSZoning', 'LotConfig', 'LandSlope', 'Neighborhood',\\\n",
    "                                             'Condition1', 'Condition2', 'BldgType', 'HouseStyle', 'RoofStyle', \\\n",
    "                                             'RoofMatl', 'Exterior1st', 'Exterior2nd', 'MasVnrType', 'Foundation', 'CentralAir', 'BsmtExposure', 'Heating', \\\n",
    "                                             'GarageType', 'SaleType', 'SaleCondition'], inplace=True)"
   ]
  },
  {
   "cell_type": "code",
   "execution_count": 92,
   "metadata": {},
   "outputs": [
    {
     "data": {
      "text/plain": [
       "(1450, 34)"
      ]
     },
     "execution_count": 92,
     "metadata": {},
     "output_type": "execute_result"
    }
   ],
   "source": [
    "fixed_house.shape"
   ]
  },
  {
   "cell_type": "code",
   "execution_count": 90,
   "metadata": {},
   "outputs": [
    {
     "data": {
      "text/plain": [
       "(1450, 106)"
      ]
     },
     "execution_count": 90,
     "metadata": {},
     "output_type": "execute_result"
    }
   ],
   "source": [
    "categorical_fixed_house.shape"
   ]
  },
  {
   "cell_type": "code",
   "execution_count": 93,
   "metadata": {},
   "outputs": [],
   "source": [
    "dummies_fixed_house = pd.concat([fixed_house, categorical_fixed_house], axis=1)"
   ]
  },
  {
   "cell_type": "code",
   "execution_count": 94,
   "metadata": {},
   "outputs": [
    {
     "data": {
      "text/plain": [
       "(1450, 140)"
      ]
     },
     "execution_count": 94,
     "metadata": {},
     "output_type": "execute_result"
    }
   ],
   "source": [
    "dummies_fixed_house.shape"
   ]
  },
  {
   "cell_type": "code",
   "execution_count": 95,
   "metadata": {},
   "outputs": [],
   "source": [
    "y_test = dummies_fixed_house[dummies_fixed_house['YrSold'] == 2010] \n",
    "y_test = np.array(y_test['SalePrice'])\n",
    "\n",
    "y_train = dummies_fixed_house[dummies_fixed_house['YrSold'] < 2010]\n",
    "y_train = np.array(y_train['SalePrice'])\n",
    "\n",
    "x_test = dummies_fixed_house[dummies_fixed_house['YrSold'] == 2010]\n",
    "x_test = x_test.drop(columns='SalePrice')\n",
    "\n",
    "x_train = dummies_fixed_house[dummies_fixed_house['YrSold'] < 2010]\n",
    "x_train = x_train.drop(columns='SalePrice')\n"
   ]
  },
  {
   "cell_type": "code",
   "execution_count": 42,
   "metadata": {
    "collapsed": true
   },
   "outputs": [
    {
     "data": {
      "text/plain": [
       "Id                       0\n",
       "MSSubClass               0\n",
       "LotFrontage              0\n",
       "LotArea                  0\n",
       "Street                   0\n",
       "LotShape                 0\n",
       "LandContour              0\n",
       "YearBuilt                0\n",
       "YearRemodAdd             0\n",
       "MasVnrArea               0\n",
       "TotalBsmtSF              0\n",
       "Electrical               0\n",
       "LowQualFinSF             0\n",
       "GrLivArea                0\n",
       "BedroomAbvGr             0\n",
       "KitchenAbvGr             0\n",
       "TotRmsAbvGrd             0\n",
       "Fireplaces               0\n",
       "GarageYrBlt              0\n",
       "GarageFinish             0\n",
       "GarageCars               0\n",
       "GarageArea               0\n",
       "WoodDeckSF               0\n",
       "OpenPorchSF              0\n",
       "EnclosedPorch            0\n",
       "3SsnPorch                0\n",
       "ScreenPorch              0\n",
       "PoolArea                 0\n",
       "MoSold                   0\n",
       "YrSold                   0\n",
       "                        ..\n",
       "MasVnrType_None          0\n",
       "MasVnrType_Stone         0\n",
       "Foundation_BrkTil        0\n",
       "Foundation_CBlock        0\n",
       "Foundation_Oth           0\n",
       "Foundation_PConc         0\n",
       "CentralAir_N             0\n",
       "CentralAir_Y             0\n",
       "BsmtExposure_0           0\n",
       "BsmtExposure_Av          0\n",
       "BsmtExposure_Gd          0\n",
       "BsmtExposure_Mn          0\n",
       "BsmtExposure_No          0\n",
       "Heating_GasA             0\n",
       "Heating_GasW             0\n",
       "Heating_Oth              0\n",
       "GarageType_2Types        0\n",
       "GarageType_Attchd        0\n",
       "GarageType_Basment       0\n",
       "GarageType_Detchd        0\n",
       "SaleType_COD             0\n",
       "SaleType_Con             0\n",
       "SaleType_New             0\n",
       "SaleType_Oth             0\n",
       "SaleType_WD              0\n",
       "SaleCondition_Abnorml    0\n",
       "SaleCondition_Family     0\n",
       "SaleCondition_Joint      0\n",
       "SaleCondition_Normal     0\n",
       "SaleCondition_Partial    0\n",
       "Length: 139, dtype: int64"
      ]
     },
     "execution_count": 42,
     "metadata": {},
     "output_type": "execute_result"
    }
   ],
   "source": [
    "x_train.isna().sum()"
   ]
  },
  {
   "cell_type": "code",
   "execution_count": 96,
   "metadata": {},
   "outputs": [],
   "source": [
    "from sklearn.preprocessing import StandardScaler\n",
    "scaler = StandardScaler()"
   ]
  },
  {
   "cell_type": "code",
   "execution_count": 97,
   "metadata": {},
   "outputs": [],
   "source": [
    "x_train = scaler.fit_transform(x_train)\n",
    "x_train = pd.DataFrame(x_train, columns=x_test.columns)"
   ]
  },
  {
   "cell_type": "code",
   "execution_count": 98,
   "metadata": {},
   "outputs": [],
   "source": [
    "#x_test = scaler.tranform(x_test)\n",
    "#x_test = pd.DataFrame(x_test, columns=x_train.columns)"
   ]
  },
  {
   "cell_type": "code",
   "execution_count": 99,
   "metadata": {},
   "outputs": [],
   "source": [
    "from sklearn.feature_selection import SelectKBest, \\\n",
    "mutual_info_regression, f_regression"
   ]
  },
  {
   "cell_type": "code",
   "execution_count": 49,
   "metadata": {},
   "outputs": [
    {
     "data": {
      "text/plain": [
       "SelectKBest(k=25, score_func=<function f_regression at 0x1d36412e60>)"
      ]
     },
     "execution_count": 49,
     "metadata": {},
     "output_type": "execute_result"
    }
   ],
   "source": [
    "mutual_reg = SelectKBest(mutual_info_regression, k=25)\n",
    "mutual_reg.fit(x_train, y_train.ravel())\n",
    "\n",
    "f_reg = SelectKBest(f_regression, k=25)\n",
    "f_reg.fit(x_train, y_train.ravel())\n"
   ]
  },
  {
   "cell_type": "code",
   "execution_count": 101,
   "metadata": {},
   "outputs": [
    {
     "data": {
      "text/html": [
       "<div>\n",
       "<style scoped>\n",
       "    .dataframe tbody tr th:only-of-type {\n",
       "        vertical-align: middle;\n",
       "    }\n",
       "\n",
       "    .dataframe tbody tr th {\n",
       "        vertical-align: top;\n",
       "    }\n",
       "\n",
       "    .dataframe thead th {\n",
       "        text-align: right;\n",
       "    }\n",
       "</style>\n",
       "<table border=\"1\" class=\"dataframe\">\n",
       "  <thead>\n",
       "    <tr style=\"text-align: right;\">\n",
       "      <th></th>\n",
       "      <th>feature</th>\n",
       "      <th>mutual_reg</th>\n",
       "      <th>f_reg</th>\n",
       "    </tr>\n",
       "  </thead>\n",
       "  <tbody>\n",
       "    <tr>\n",
       "      <td>30</td>\n",
       "      <td>TotalSF</td>\n",
       "      <td>0.489548</td>\n",
       "      <td>1349.21</td>\n",
       "    </tr>\n",
       "    <tr>\n",
       "      <td>13</td>\n",
       "      <td>GrLivArea</td>\n",
       "      <td>0.475311</td>\n",
       "      <td>1284</td>\n",
       "    </tr>\n",
       "    <tr>\n",
       "      <td>7</td>\n",
       "      <td>YearBuilt</td>\n",
       "      <td>0.363424</td>\n",
       "      <td>453.593</td>\n",
       "    </tr>\n",
       "    <tr>\n",
       "      <td>10</td>\n",
       "      <td>TotalBsmtSF</td>\n",
       "      <td>0.360882</td>\n",
       "      <td>731.737</td>\n",
       "    </tr>\n",
       "    <tr>\n",
       "      <td>20</td>\n",
       "      <td>GarageCars</td>\n",
       "      <td>0.360479</td>\n",
       "      <td>894.937</td>\n",
       "    </tr>\n",
       "    <tr>\n",
       "      <td>21</td>\n",
       "      <td>GarageArea</td>\n",
       "      <td>0.359295</td>\n",
       "      <td>844.791</td>\n",
       "    </tr>\n",
       "    <tr>\n",
       "      <td>32</td>\n",
       "      <td>AbvGrBath</td>\n",
       "      <td>0.339502</td>\n",
       "      <td>716.619</td>\n",
       "    </tr>\n",
       "    <tr>\n",
       "      <td>1</td>\n",
       "      <td>MSSubClass</td>\n",
       "      <td>0.286939</td>\n",
       "      <td>7.02543</td>\n",
       "    </tr>\n",
       "    <tr>\n",
       "      <td>19</td>\n",
       "      <td>GarageFinish</td>\n",
       "      <td>0.264724</td>\n",
       "      <td>0.0694268</td>\n",
       "    </tr>\n",
       "    <tr>\n",
       "      <td>18</td>\n",
       "      <td>GarageYrBlt</td>\n",
       "      <td>0.248719</td>\n",
       "      <td>90.2281</td>\n",
       "    </tr>\n",
       "  </tbody>\n",
       "</table>\n",
       "</div>"
      ],
      "text/plain": [
       "         feature mutual_reg      f_reg\n",
       "30       TotalSF   0.489548    1349.21\n",
       "13     GrLivArea   0.475311       1284\n",
       "7      YearBuilt   0.363424    453.593\n",
       "10   TotalBsmtSF   0.360882    731.737\n",
       "20    GarageCars   0.360479    894.937\n",
       "21    GarageArea   0.359295    844.791\n",
       "32     AbvGrBath   0.339502    716.619\n",
       "1     MSSubClass   0.286939    7.02543\n",
       "19  GarageFinish   0.264724  0.0694268\n",
       "18   GarageYrBlt   0.248719    90.2281"
      ]
     },
     "execution_count": 101,
     "metadata": {},
     "output_type": "execute_result"
    }
   ],
   "source": [
    "kbest = pd.DataFrame([x_train.columns, mutual_reg.scores_, f_reg.scores_], \n",
    "                     index=['feature', 'mutual_reg', 'f_reg']).T.sort_values('mutual_reg', ascending=False)\n",
    "kbest.head(10)"
   ]
  },
  {
   "cell_type": "code",
   "execution_count": 104,
   "metadata": {},
   "outputs": [],
   "source": [
    "post_feat_selection_x_train = x_train.iloc[:,[30,13,20,7,10,21,32,1,19,18]]\n",
    "post_feat_selection_x_test = x_test.iloc[:,[30,13,20,7,10,21,32,1,19,18]]"
   ]
  },
  {
   "cell_type": "code",
   "execution_count": 105,
   "metadata": {},
   "outputs": [],
   "source": [
    "from sklearn.linear_model import LinearRegression\n",
    "lm = LinearRegression() "
   ]
  },
  {
   "cell_type": "code",
   "execution_count": 106,
   "metadata": {},
   "outputs": [
    {
     "data": {
      "text/plain": [
       "0.7214999916430467"
      ]
     },
     "execution_count": 106,
     "metadata": {},
     "output_type": "execute_result"
    }
   ],
   "source": [
    "lm.fit(post_feat_selection_x_train, y_train)\n",
    "lm.score(post_feat_selection_x_train, y_train)"
   ]
  },
  {
   "cell_type": "code",
   "execution_count": 107,
   "metadata": {},
   "outputs": [],
   "source": [
    "train_y_hat = lm.predict(post_feat_selection_x_test)"
   ]
  },
  {
   "cell_type": "code",
   "execution_count": 108,
   "metadata": {},
   "outputs": [],
   "source": [
    "from sklearn.metrics import r2_score"
   ]
  },
  {
   "cell_type": "code",
   "execution_count": 112,
   "metadata": {},
   "outputs": [],
   "source": [
    "from sklearn import metrics"
   ]
  },
  {
   "cell_type": "code",
   "execution_count": 114,
   "metadata": {},
   "outputs": [
    {
     "name": "stdout",
     "output_type": "stream",
     "text": [
      "Mean Absolute Error: 104297547.91052634\n",
      "Mean Squared Error: 1.1375249905642428e+16\n",
      "Root Mean Squared Error: 106654816.60779521\n"
     ]
    }
   ],
   "source": [
    "print('Mean Absolute Error:', metrics.mean_absolute_error(y_test, train_y_hat))  \n",
    "print('Mean Squared Error:', metrics.mean_squared_error(y_test, train_y_hat))  \n",
    "print('Root Mean Squared Error:', np.sqrt(metrics.mean_squared_error(y_test, train_y_hat)))"
   ]
  },
  {
   "cell_type": "code",
   "execution_count": 314,
   "metadata": {},
   "outputs": [
    {
     "data": {
      "text/plain": [
       "133937.21753347918"
      ]
     },
     "execution_count": 314,
     "metadata": {},
     "output_type": "execute_result"
    }
   ],
   "source": [
    "sns.lmplot(x='')"
   ]
  }
 ],
 "metadata": {
  "kernelspec": {
   "display_name": "Python 3",
   "language": "python",
   "name": "python3"
  },
  "language_info": {
   "codemirror_mode": {
    "name": "ipython",
    "version": 3
   },
   "file_extension": ".py",
   "mimetype": "text/x-python",
   "name": "python",
   "nbconvert_exporter": "python",
   "pygments_lexer": "ipython3",
   "version": "3.7.4"
  }
 },
 "nbformat": 4,
 "nbformat_minor": 2
}
